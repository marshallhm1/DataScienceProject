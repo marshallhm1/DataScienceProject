{
 "cells": [
  {
   "cell_type": "markdown",
   "metadata": {},
   "source": [
    "# Exploratory Data Analysis of OVID Covid-19 Dataset\n",
    "\n",
    "## Introduction\n",
    "This notebook is for performing Exploratory Data Analysis (EDA) on the COVID-19 dataset to understand the structure of the data, clean and preprocess it, and extract any insights that could help with our risk classification task. We will:\n",
    "- Load and inspect the dataset\n",
    "- Clean and preprocess it\n",
    "- Analyze univariate, time series, and bivariate relationships\n",
    "- Engineer features which may become useful for classification\n",
    "---\n",
    "## Data Loading and Inspection\n",
    "\n",
    "We start by importing necessary libraries and loading the dataset. File paths may be adjusted as needed."
   ]
  },
  {
   "cell_type": "code",
   "execution_count": null,
   "metadata": {},
   "outputs": [
    {
     "ename": "",
     "evalue": "",
     "output_type": "error",
     "traceback": [
      "\u001b[1;31mRunning cells with 'Python 3.12.7' requires the ipykernel package.\n",
      "\u001b[1;31mRun the following command to install 'ipykernel' into the Python environment. \n",
      "\u001b[1;31mCommand: '/opt/homebrew/bin/python3.12 -m pip install ipykernel -U --user --force-reinstall'"
     ]
    }
   ],
   "source": [
    "import pandas as pd\n",
    "import numpy as np\n",
    "import matplotlib.pyplot as plt\n",
    "%matplotlib inline\n",
    "\n",
    "# Load the dataset\n",
    "data = pd.read_csv('./data/owid_covid_data.csv', parse_dates=['date'])\n",
    "\n",
    "# Display the first few rows\n",
    "print(\"First 5 rows of the dataset:\", display(data.head()))"
   ]
  }
 ],
 "metadata": {
  "kernelspec": {
   "display_name": "Python 3",
   "language": "python",
   "name": "python3"
  },
  "language_info": {
   "name": "python",
   "version": "3.12.7"
  }
 },
 "nbformat": 4,
 "nbformat_minor": 2
}

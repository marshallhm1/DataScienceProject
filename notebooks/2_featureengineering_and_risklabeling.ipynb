{
 "cells": [
  {
   "cell_type": "markdown",
   "id": "1edf0873",
   "metadata": {},
   "source": [
    "# Feature Engineering and Risk Labeling of the COVID-19 Dataset"
   ]
  }
 ],
 "metadata": {
  "language_info": {
   "name": "python"
  }
 },
 "nbformat": 4,
 "nbformat_minor": 5
}
